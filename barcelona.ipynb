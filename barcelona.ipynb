{
  "cells": [
    {
      "cell_type": "markdown",
      "metadata": {
        "id": "view-in-github",
        "colab_type": "text"
      },
      "source": [
        "<a href=\"https://colab.research.google.com/github/Akshay0714/barcelona_scraper/blob/main/barcelona.ipynb\" target=\"_parent\"><img src=\"https://colab.research.google.com/assets/colab-badge.svg\" alt=\"Open In Colab\"/></a>"
      ]
    },
    {
      "cell_type": "code",
      "execution_count": 1,
      "metadata": {
        "id": "h4M07Egfzohj"
      },
      "outputs": [],
      "source": [
        "import pandas as pd\n",
        "from bs4 import BeautifulSoup\n",
        "import requests\n",
        "import re"
      ]
    },
    {
      "cell_type": "code",
      "execution_count": 2,
      "metadata": {
        "colab": {
          "base_uri": "https://localhost:8080/"
        },
        "id": "DVKK4yRcPCwr",
        "outputId": "7dcd4215-de1a-4b96-d5eb-289c560cb587"
      },
      "outputs": [
        {
          "output_type": "stream",
          "name": "stdout",
          "text": [
            "Extracted 14 table/s\n"
          ]
        }
      ],
      "source": [
        "url = \"https://fbref.com/en/squads/206d90db/Barcelona-Stats\"\n",
        "data = pd.read_html(url)\n",
        "print(f'Extracted {len(data)} table/s')\n",
        "players= data[0]"
      ]
    },
    {
      "cell_type": "code",
      "execution_count": 3,
      "metadata": {
        "id": "9dg0M1b5QUbQ"
      },
      "outputs": [],
      "source": [
        "reqs = requests.get('https://fbref.com/en/squads/206d90db/Barcelona-Stats')\n",
        "soup = BeautifulSoup(reqs.text, 'lxml')\n",
        "headers = (soup.find_all('h2'))\n",
        "headers = headers[0:14]"
      ]
    },
    {
      "cell_type": "code",
      "execution_count": 4,
      "metadata": {
        "id": "FuNQKqJ3RcMr"
      },
      "outputs": [],
      "source": [
        "def remove_html_tags(text):\n",
        "    clean = re.compile('<.*?>')\n",
        "    return re.sub(clean, '', text)"
      ]
    },
    {
      "cell_type": "code",
      "execution_count": 5,
      "metadata": {
        "id": "CWmEIbewyVzD"
      },
      "outputs": [],
      "source": [
        "for i in range(0, len(headers)):\n",
        "  headers[i] = str(headers[i])\n",
        "  headers[i] = remove_html_tags(headers[i])\n",
        "  headers[i] = (headers[i].partition(\" 2022\")[0])\n",
        "  headers[i] = headers[i].rstrip()\n",
        "  headers[i] = headers[i].replace(\" \", \"_\")\n",
        "  headers[i] = headers[i].replace(\",\", \"\")\n",
        "  if \"&amp;\" in headers[i]:\n",
        "    headers[i] = headers[i].replace(\"&amp;\", \"&\")"
      ]
    },
    {
      "cell_type": "code",
      "execution_count": 6,
      "metadata": {
        "id": "CXb_sl9q1J5-"
      },
      "outputs": [],
      "source": [
        "datasets = dict(zip(headers, data))"
      ]
    },
    {
      "cell_type": "code",
      "execution_count": 7,
      "metadata": {
        "id": "FupgfE6f3OF6"
      },
      "outputs": [],
      "source": [
        "for i in headers:\n",
        "  df = datasets[i]\n",
        "  df.to_csv(i+'.csv', index=False, header=True)"
      ]
    }
  ],
  "metadata": {
    "colab": {
      "provenance": [],
      "collapsed_sections": [],
      "authorship_tag": "ABX9TyMJG3VZzHsw5NIa3XlCIaF6",
      "include_colab_link": true
    },
    "kernelspec": {
      "display_name": "Python 3",
      "name": "python3"
    },
    "language_info": {
      "name": "python"
    }
  },
  "nbformat": 4,
  "nbformat_minor": 0
}